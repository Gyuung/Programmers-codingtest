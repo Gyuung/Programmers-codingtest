{
 "cells": [
  {
   "cell_type": "markdown",
   "metadata": {},
   "source": [
    "문제 설명\n",
    "어떤 문장의 각 알파벳을 일정한 거리만큼 밀어서 다른 알파벳으로 바꾸는 암호화 방식을 시저 암호라고 합니다. 예를 들어 \"AB\"는 1만큼 밀면 \"BC\"가 되고, 3만큼 밀면 \"DE\"가 됩니다. \"z\"는 1만큼 밀면 \"a\"가 됩니다. 문자열 s와 거리 n을 입력받아 s를 n만큼 민 암호문을 만드는 함수, solution을 완성해 보세요.\n",
    "\n",
    "제한 조건\n",
    "공백은 아무리 밀어도 공백입니다.\n",
    "s는 알파벳 소문자, 대문자, 공백으로만 이루어져 있습니다.\n",
    "s의 길이는 8000이하입니다.\n",
    "n은 1 이상, 25이하인 자연수입니다.\n",
    "입출력 예\n",
    "s\tn\tresult\n",
    "\"AB\"\t1\t\"BC\"\n",
    "\"z\"\t1\t\"a\"\n",
    "\"a B z\"\t4\t\"e F d\""
   ]
  },
  {
   "cell_type": "code",
   "execution_count": 23,
   "metadata": {},
   "outputs": [
    {
     "data": {
      "text/plain": [
       "'aa'"
      ]
     },
     "execution_count": 23,
     "metadata": {},
     "output_type": "execute_result"
    }
   ],
   "source": [
    "def solution(s, n):\n",
    "    answer = ''\n",
    "    lower = \"abcdefghijklmnopqrstuvwxyz\"\n",
    "    upper = \"ABCDEFGHIJKLMNOPQRSTUVWXYZ\"\n",
    "    for i in s:\n",
    "        if i in lower:\n",
    "            lower1 = lower.find(i)+n\n",
    "            answer += lower[lower1%26]\n",
    "        elif i in upper:\n",
    "            upper1 = upper.find(i)+n\n",
    "            answer += upper[upper1%26]\n",
    "        else:\n",
    "            answer += ' '\n",
    "    return answer\n",
    "        \n",
    "solution(\"zz\",1)"
   ]
  },
  {
   "cell_type": "code",
   "execution_count": 13,
   "metadata": {},
   "outputs": [
    {
     "data": {
      "text/plain": [
       "1"
      ]
     },
     "execution_count": 13,
     "metadata": {},
     "output_type": "execute_result"
    }
   ],
   "source": [
    "lower2 = \"abcdefghijklmnopqrstuvwxyz\"\n",
    "lower2.find(\"b\")"
   ]
  },
  {
   "cell_type": "code",
   "execution_count": 19,
   "metadata": {},
   "outputs": [
    {
     "data": {
      "text/plain": [
       "'a'"
      ]
     },
     "execution_count": 19,
     "metadata": {},
     "output_type": "execute_result"
    }
   ],
   "source": [
    "lower3 = \"abcdefghijklmnopqrstuvwxyz\"\n",
    "lower3[26%26]"
   ]
  },
  {
   "cell_type": "code",
   "execution_count": null,
   "metadata": {},
   "outputs": [],
   "source": []
  }
 ],
 "metadata": {
  "kernelspec": {
   "display_name": "Python 3",
   "language": "python",
   "name": "python3"
  },
  "language_info": {
   "codemirror_mode": {
    "name": "ipython",
    "version": 3
   },
   "file_extension": ".py",
   "mimetype": "text/x-python",
   "name": "python",
   "nbconvert_exporter": "python",
   "pygments_lexer": "ipython3",
   "version": "3.8.5"
  }
 },
 "nbformat": 4,
 "nbformat_minor": 4
}
