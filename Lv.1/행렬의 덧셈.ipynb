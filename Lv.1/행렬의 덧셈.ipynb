{
 "cells": [
  {
   "cell_type": "markdown",
   "metadata": {},
   "source": [
    "문제 설명\n",
    "행렬의 덧셈은 행과 열의 크기가 같은 두 행렬의 같은 행, 같은 열의 값을 서로 더한 결과가 됩니다. 2개의 행렬 arr1과 arr2를 입력받아, 행렬 덧셈의 결과를 반환하는 함수, solution을 완성해주세요.\n",
    "\n",
    "제한 조건\n",
    "행렬 arr1, arr2의 행과 열의 길이는 500을 넘지 않습니다.\n",
    "입출력 예\n",
    "arr1\tarr2\treturn\n",
    "[[1,2],[2,3]]\t[[3,4],[5,6]]\t[[4,6],[7,9]]\n",
    "[[1],[2]]\t[[3],[4]]\t[[4],[6]]\n"
   ]
  },
  {
   "cell_type": "code",
   "execution_count": 76,
   "metadata": {},
   "outputs": [
    {
     "data": {
      "text/plain": [
       "[1, 3, 2, 4]"
      ]
     },
     "execution_count": 76,
     "metadata": {},
     "output_type": "execute_result"
    }
   ],
   "source": [
    "def solution(arr1, arr2):\n",
    "    sum = []\n",
    "    list1 = list((arr1))\n",
    "    list2 = list((arr2))\n",
    "    for i in range(0,len(arr1)):\n",
    "        sum += (arr1[i])+ (arr2[i])\n",
    "    answer = sum\n",
    "    return answer\n",
    "\n",
    "solution([[1],[2]],[[3],[4]])"
   ]
  },
  {
   "cell_type": "code",
   "execution_count": 81,
   "metadata": {},
   "outputs": [
    {
     "data": {
      "text/plain": [
       "array([[4, 6],\n",
       "       [7, 9]])"
      ]
     },
     "execution_count": 81,
     "metadata": {},
     "output_type": "execute_result"
    }
   ],
   "source": [
    "# 넘파이 모듈 활용\n",
    "\n",
    "import numpy as np\n",
    "\n",
    "def solution(arr1, arr2):\n",
    "    array1 = np.array(arr1)\n",
    "    array2 = np.array(arr2)\n",
    "    sum = array1 + array2\n",
    "    return sum\n",
    "\n",
    "solution([[1,2],[2,3]],[[3,4],[5,6]])"
   ]
  },
  {
   "cell_type": "code",
   "execution_count": 83,
   "metadata": {},
   "outputs": [
    {
     "data": {
      "text/plain": [
       "[[4, 6], [7, 9]]"
      ]
     },
     "execution_count": 83,
     "metadata": {},
     "output_type": "execute_result"
    }
   ],
   "source": [
    "# 넘파이 모듈 활용 , tolist() 활용\n",
    "\n",
    "import numpy as np\n",
    "\n",
    "def solution(arr1, arr2):\n",
    "    array1 = np.array(arr1)\n",
    "    array2 = np.array(arr2)\n",
    "    sum = array1 + array2\n",
    "    return sum.tolist()\n",
    "\n",
    "solution([[1,2],[2,3]],[[3,4],[5,6]])"
   ]
  }
 ],
 "metadata": {
  "kernelspec": {
   "display_name": "Python 3",
   "language": "python",
   "name": "python3"
  },
  "language_info": {
   "codemirror_mode": {
    "name": "ipython",
    "version": 3
   },
   "file_extension": ".py",
   "mimetype": "text/x-python",
   "name": "python",
   "nbconvert_exporter": "python",
   "pygments_lexer": "ipython3",
   "version": "3.8.5"
  }
 },
 "nbformat": 4,
 "nbformat_minor": 4
}
