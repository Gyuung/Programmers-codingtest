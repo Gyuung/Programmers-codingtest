{
 "cells": [
  {
   "cell_type": "code",
   "execution_count": 7,
   "metadata": {},
   "outputs": [
    {
     "name": "stdout",
     "output_type": "stream",
     "text": [
      "['1', '9', '2', '8']\n"
     ]
    }
   ],
   "source": [
    "def solution(n):\n",
    "    desc = list(str(n))\n",
    "    desc.sort # 오름차순으로 정렬됨\n",
    "    answer = desc \n",
    "    return answer\n",
    "\n",
    "print(solution(1928))"
   ]
  },
  {
   "cell_type": "code",
   "execution_count": 8,
   "metadata": {},
   "outputs": [
    {
     "name": "stdout",
     "output_type": "stream",
     "text": [
      "['9', '8', '2', '1']\n"
     ]
    }
   ],
   "source": [
    "def solution(n):\n",
    "    desc = list(str(n))\n",
    "    desc.sort(reverse = True) # 내림차순으로 정렬 완료 디폴트 값은 오름차순 (reverse = False)\n",
    "    answer = desc             #  이제 리스트안에 요소들을 하나로 합쳐야 한다.\n",
    "    return answer\n",
    "\n",
    "print(solution(1928))"
   ]
  },
  {
   "cell_type": "code",
   "execution_count": 11,
   "metadata": {},
   "outputs": [
    {
     "name": "stdout",
     "output_type": "stream",
     "text": [
      "9821\n"
     ]
    }
   ],
   "source": [
    "def solution(n):\n",
    "    desc = list(str(n))\n",
    "    desc.sort(reverse = True) \n",
    "    answer = ''.join(desc)    # http://mwultong.blogspot.com/2006/12/python-join-list-array.html 여기 참고 구분없이 합치기\n",
    "    return answer\n",
    "\n",
    "print(solution(1928))\n",
    "\n",
    "# 답은 나왔지만 제출에 실패해서 생각해보니 문자열로 출력해서 그런것 같아서 수정"
   ]
  },
  {
   "cell_type": "code",
   "execution_count": 13,
   "metadata": {},
   "outputs": [
    {
     "name": "stdout",
     "output_type": "stream",
     "text": [
      "9821\n"
     ]
    }
   ],
   "source": [
    "def solution(n):\n",
    "    desc = list(str(n))\n",
    "    desc.sort(reverse = True) \n",
    "    answer = int(''.join(desc))\n",
    "    return answer\n",
    "\n",
    "print(solution(1928))\n"
   ]
  },
  {
   "cell_type": "code",
   "execution_count": 14,
   "metadata": {},
   "outputs": [
    {
     "name": "stdout",
     "output_type": "stream",
     "text": [
      "987654321\n"
     ]
    }
   ],
   "source": [
    "# 큰 수 테스트\n",
    "\n",
    "def solution(n):\n",
    "    desc = list(str(n))\n",
    "    desc.sort(reverse = True) \n",
    "    answer = int(''.join(desc))\n",
    "    return answer\n",
    "\n",
    "print(solution(123456789))"
   ]
  },
  {
   "cell_type": "code",
   "execution_count": null,
   "metadata": {},
   "outputs": [],
   "source": []
  }
 ],
 "metadata": {
  "kernelspec": {
   "display_name": "Python 3",
   "language": "python",
   "name": "python3"
  },
  "language_info": {
   "codemirror_mode": {
    "name": "ipython",
    "version": 3
   },
   "file_extension": ".py",
   "mimetype": "text/x-python",
   "name": "python",
   "nbconvert_exporter": "python",
   "pygments_lexer": "ipython3",
   "version": "3.8.5"
  }
 },
 "nbformat": 4,
 "nbformat_minor": 4
}
