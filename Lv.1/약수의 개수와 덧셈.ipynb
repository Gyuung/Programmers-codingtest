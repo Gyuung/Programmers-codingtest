{
 "cells": [
  {
   "cell_type": "markdown",
   "id": "14fc52a5-b954-45f6-9b92-6ca3f125ad5b",
   "metadata": {},
   "source": [
    "약수의 개수와 덧셈\n",
    "문제 설명\n",
    "두 정수 left와 right가 매개변수로 주어집니다. left부터 right까지의 모든 수들 중에서, 약수의 개수가 짝수인 수는 더하고, 약수의 개수가 홀수인 수는 뺀 수를 return 하도록 solution 함수를 완성해주세요.\n",
    "\n",
    "제한사항\n",
    "1 ≤ left ≤ right ≤ 1,000\n",
    "입출력 예\n",
    "left\tright\tresult\n",
    "13\t17\t43\n",
    "24\t27\t52\n",
    "입출력 예 설명\n",
    "입출력 예 #1\n",
    "\n",
    "다음 표는 13부터 17까지의 수들의 약수를 모두 나타낸 것입니다.\n",
    "수\t약수\t약수의 개수\n",
    "13\t1, 13\t2\n",
    "14\t1, 2, 7, 14\t4\n",
    "15\t1, 3, 5, 15\t4\n",
    "16\t1, 2, 4, 8, 16\t5\n",
    "17\t1, 17\t2\n",
    "따라서, 13 + 14 + 15 - 16 + 17 = 43을 return 해야 합니다.\n",
    "입출력 예 #2\n",
    "\n",
    "다음 표는 24부터 27까지의 수들의 약수를 모두 나타낸 것입니다.\n",
    "수\t약수\t약수의 개수\n",
    "24\t1, 2, 3, 4, 6, 8, 12, 24\t8\n",
    "25\t1, 5, 25\t3\n",
    "26\t1, 2, 13, 26\t4\n",
    "27\t1, 3, 9, 27\t4\n",
    "따라서, 24 - 25 + 26 + 27 = 52를 return 해야 합니다."
   ]
  },
  {
   "cell_type": "code",
   "execution_count": null,
   "id": "31d8f75f-affe-43e4-a003-1d29f08538a0",
   "metadata": {},
   "outputs": [],
   "source": [
    "def solution(left, right):\n",
    "    answer = 0\n",
    "    return answer"
   ]
  },
  {
   "cell_type": "code",
   "execution_count": 1,
   "id": "73eb66e9-5445-4e7b-b860-c1e995b3029d",
   "metadata": {},
   "outputs": [],
   "source": [
    "# 13 약수 갯수 구하기\n",
    "\n",
    "number = 13\n",
    "index = 1\n",
    "count = 0\n",
    "\n",
    "while index <= number :\n",
    "    if number % index == 0:\n",
    "        count += 1\n",
    "    index += 1"
   ]
  },
  {
   "cell_type": "code",
   "execution_count": 2,
   "id": "a225a84a-e6bb-4134-9345-367ec86e950e",
   "metadata": {},
   "outputs": [
    {
     "data": {
      "text/plain": [
       "2"
      ]
     },
     "execution_count": 2,
     "metadata": {},
     "output_type": "execute_result"
    }
   ],
   "source": [
    "count"
   ]
  },
  {
   "cell_type": "code",
   "execution_count": 11,
   "id": "9dffa242-7320-48c6-ab66-2cd144dfa835",
   "metadata": {},
   "outputs": [],
   "source": [
    "def solution(left, right):\n",
    "    answer = 0\n",
    "    for i in range(left,right+1):\n",
    "        count = 0\n",
    "        index = 1\n",
    "        while index <= i :\n",
    "            if i % index == 0:\n",
    "                count += 1\n",
    "            index += 1\n",
    "        if count % 2 == 0:\n",
    "            answer = answer + i\n",
    "        else:\n",
    "            answer = answer - i\n",
    "    return answer"
   ]
  },
  {
   "cell_type": "code",
   "execution_count": 10,
   "id": "e1678a57-86dc-4f91-9000-ef031c397d33",
   "metadata": {},
   "outputs": [
    {
     "data": {
      "text/plain": [
       "43"
      ]
     },
     "execution_count": 10,
     "metadata": {},
     "output_type": "execute_result"
    }
   ],
   "source": [
    "solution(13,17)"
   ]
  },
  {
   "cell_type": "code",
   "execution_count": 12,
   "id": "1578b4c2-1f34-4eea-a84a-6d7f4e2cb3c0",
   "metadata": {},
   "outputs": [],
   "source": [
    "# 다른사람의 풀이\n",
    "def solution(left, right):\n",
    "    answer = 0\n",
    "    for i in range(left,right+1):\n",
    "        if int(i**0.5)==i**0.5:\n",
    "            answer -= i\n",
    "        else:\n",
    "            answer += i\n",
    "    return answer"
   ]
  },
  {
   "cell_type": "code",
   "execution_count": 13,
   "id": "2092ab10-9a05-4f29-b3ce-06c1ada7ae80",
   "metadata": {},
   "outputs": [
    {
     "data": {
      "text/plain": [
       "43"
      ]
     },
     "execution_count": 13,
     "metadata": {},
     "output_type": "execute_result"
    }
   ],
   "source": [
    "solution(13,17)"
   ]
  },
  {
   "cell_type": "markdown",
   "id": "6b832495-1a09-454b-918c-d0f6533140c8",
   "metadata": {},
   "source": [
    "제곱근이 정수이면 약수의 갯수는 홀수\n",
    "처음 배운사실"
   ]
  },
  {
   "cell_type": "code",
   "execution_count": 15,
   "id": "299d387d-22ef-4b7b-98fb-c66c3cc9fdd1",
   "metadata": {},
   "outputs": [
    {
     "data": {
      "text/plain": [
       "3"
      ]
     },
     "execution_count": 15,
     "metadata": {},
     "output_type": "execute_result"
    }
   ],
   "source": [
    "int(13**0.5)"
   ]
  },
  {
   "cell_type": "code",
   "execution_count": 16,
   "id": "5347b8dd-d6d9-4d34-a996-d527bb85f622",
   "metadata": {},
   "outputs": [
    {
     "data": {
      "text/plain": [
       "3.7416573867739413"
      ]
     },
     "execution_count": 16,
     "metadata": {},
     "output_type": "execute_result"
    }
   ],
   "source": [
    "14**0.5"
   ]
  },
  {
   "cell_type": "code",
   "execution_count": 17,
   "id": "307af0f8-dee6-4fe8-8f71-ad18ff648fb1",
   "metadata": {},
   "outputs": [
    {
     "data": {
      "text/plain": [
       "3.872983346207417"
      ]
     },
     "execution_count": 17,
     "metadata": {},
     "output_type": "execute_result"
    }
   ],
   "source": [
    "15**0.5"
   ]
  },
  {
   "cell_type": "code",
   "execution_count": 18,
   "id": "74a36442-8934-4e06-a9b7-2ca1e0da98fc",
   "metadata": {},
   "outputs": [
    {
     "data": {
      "text/plain": [
       "4.0"
      ]
     },
     "execution_count": 18,
     "metadata": {},
     "output_type": "execute_result"
    }
   ],
   "source": [
    "16**0.5"
   ]
  },
  {
   "cell_type": "code",
   "execution_count": null,
   "id": "20e53f3e-16a6-4791-a8b2-1fa5dd078753",
   "metadata": {},
   "outputs": [],
   "source": []
  }
 ],
 "metadata": {
  "kernelspec": {
   "display_name": "Python 3 (ipykernel)",
   "language": "python",
   "name": "python3"
  },
  "language_info": {
   "codemirror_mode": {
    "name": "ipython",
    "version": 3
   },
   "file_extension": ".py",
   "mimetype": "text/x-python",
   "name": "python",
   "nbconvert_exporter": "python",
   "pygments_lexer": "ipython3",
   "version": "3.8.13"
  }
 },
 "nbformat": 4,
 "nbformat_minor": 5
}
