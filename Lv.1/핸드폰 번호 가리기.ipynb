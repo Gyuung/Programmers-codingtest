{
 "cells": [
  {
   "attachments": {},
   "cell_type": "markdown",
   "metadata": {},
   "source": [
    "핸드폰 번호 가리기\n",
    "\n",
    "문제 설명\n",
    "\n",
    "프로그래머스 모바일은 개인정보 보호를 위해 고지서를 보낼 때 고객들의 전화번호의 일부를 가립니다.\n",
    "전화번호가 문자열 phone_number로 주어졌을 때, 전화번호의 뒷 4자리를 제외한 나머지 숫자를 전부 *으로 가린 문자열을 리턴하는 함수, solution을 완성해주세요.\n",
    "\n",
    "제한 조건\n",
    "s는 길이 4 이상, 20이하인 문자열입니다.\n",
    "입출력 예\n",
    "\n",
    "phone_number\treturn\n",
    "\"01033334444\"\t\"*******4444\"\n",
    "\"027778888\"\t\"*****8888\"\n"
   ]
  },
  {
   "cell_type": "code",
   "execution_count": 71,
   "metadata": {},
   "outputs": [
    {
     "name": "stdout",
     "output_type": "stream",
     "text": [
      "*******4444\n"
     ]
    }
   ],
   "source": [
    "def solution(phone_number):\n",
    "    star = list(phone_number)\n",
    "    answer = star[::-1]\n",
    "    star1 = answer\n",
    "    for i in range(4,len(star1)):\n",
    "     star1[i] = \"*\"\n",
    "    star2 = star1[::-1]\n",
    "    answer = ''.join(star2)\n",
    "    return answer\n",
    "\n",
    "print(solution(\"01033334444\"))"
   ]
  },
  {
   "cell_type": "code",
   "execution_count": 70,
   "metadata": {},
   "outputs": [
    {
     "name": "stdout",
     "output_type": "stream",
     "text": [
      "*******4444\n"
     ]
    }
   ],
   "source": [
    "# 코드 간소화\n",
    "def solution(phone_number):\n",
    "    star = list(phone_number)\n",
    "    star1 = star[::-1]\n",
    "    for i in range(4,len(star1)):\n",
    "        star1[i] = \"*\"\n",
    "    answer = ''.join(star1[::-1])\n",
    "    \n",
    "    return answer\n",
    "  \n",
    "print(solution(\"01033334444\"))"
   ]
  },
  {
   "cell_type": "code",
   "execution_count": null,
   "metadata": {},
   "outputs": [],
   "source": []
  }
 ],
 "metadata": {
  "kernelspec": {
   "display_name": "Python 3",
   "language": "python",
   "name": "python3"
  },
  "language_info": {
   "codemirror_mode": {
    "name": "ipython",
    "version": 3
   },
   "file_extension": ".py",
   "mimetype": "text/x-python",
   "name": "python",
   "nbconvert_exporter": "python",
   "pygments_lexer": "ipython3",
   "version": "3.8.5"
  }
 },
 "nbformat": 4,
 "nbformat_minor": 4
}
