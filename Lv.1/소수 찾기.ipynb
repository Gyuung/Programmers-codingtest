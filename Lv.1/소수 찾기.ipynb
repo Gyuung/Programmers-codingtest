{
 "cells": [
  {
   "cell_type": "code",
   "execution_count": 6,
   "metadata": {},
   "outputs": [
    {
     "name": "stdout",
     "output_type": "stream",
     "text": [
      "[2, 3, 4, 5, 6, 7, 8, 9, 10]\n"
     ]
    }
   ],
   "source": [
    "# for문이 어떤식으로 돌아가는지 판별하기 위해 테스트 셋\n",
    "\n",
    "def solution(n):   \n",
    "    answer = []\n",
    "    for num in range(2,n+1):\n",
    "      if num > 1:\n",
    "        answer.append(num)\n",
    "    return answer\n",
    "\n",
    "print(solution(10))  "
   ]
  },
  {
   "cell_type": "code",
   "execution_count": 13,
   "metadata": {},
   "outputs": [
    {
     "name": "stdout",
     "output_type": "stream",
     "text": [
      "9592\n"
     ]
    }
   ],
   "source": [
    "# 처음 푼 코드 10만이 한계\n",
    "\n",
    "\n",
    "def solution(n):   \n",
    "    answer = 0\n",
    "    for num in range(2,n+1): \n",
    "      for num2 in range(2,num): \n",
    "          if num % num2 == 0:\n",
    "            break\n",
    "      else:\n",
    "            answer += 1\n",
    "    return answer\n",
    "    \n",
    "\n",
    "print(solution(100000))"
   ]
  },
  {
   "cell_type": "code",
   "execution_count": 4,
   "metadata": {},
   "outputs": [
    {
     "name": "stdout",
     "output_type": "stream",
     "text": [
      "1229\n"
     ]
    }
   ],
   "source": [
    "# 두번째로 푼 코드 1만이 한계\n",
    "\n",
    "def solution(n):   \n",
    "    answer = 0\n",
    "    for i in range(1,n+1):\n",
    "      for j in range(2, i+1):\n",
    "          if (j == i):\n",
    "              answer += 1\n",
    "          elif (i % j == 0):\n",
    "             break\n",
    "    return answer\n",
    "\n",
    "print(solution(10000))"
   ]
  },
  {
   "cell_type": "code",
   "execution_count": 14,
   "metadata": {},
   "outputs": [
    {
     "name": "stdout",
     "output_type": "stream",
     "text": [
      "78498\n"
     ]
    }
   ],
   "source": [
    "# 인터넷에서 찾아본 소수 찾기 에라토스테네스 체 방식 통과\n",
    "\n",
    "\n",
    "def solution(n):\n",
    "    answer = 0\n",
    "    number = []\n",
    "    #...1\n",
    "    for i in range(n + 1):\n",
    "        number.append(i)\n",
    "    #...2\n",
    "    for i in range(2, n + 1, 1):\n",
    "        if i == -1: \n",
    "            continue\n",
    "        j = 0\n",
    "        for j in range(i + i, n + 1, i):\n",
    "            number[j] = -1\n",
    "    #...3\n",
    "    for i in range(2, n + 1):\n",
    "        if number[i] != -1:\n",
    "            answer += 1\n",
    "    return answer\n",
    "\n",
    "print(solution(1000000))"
   ]
  },
  {
   "cell_type": "code",
   "execution_count": null,
   "metadata": {},
   "outputs": [],
   "source": []
  }
 ],
 "metadata": {
  "kernelspec": {
   "display_name": "Python 3",
   "language": "python",
   "name": "python3"
  },
  "language_info": {
   "codemirror_mode": {
    "name": "ipython",
    "version": 3
   },
   "file_extension": ".py",
   "mimetype": "text/x-python",
   "name": "python",
   "nbconvert_exporter": "python",
   "pygments_lexer": "ipython3",
   "version": "3.8.5"
  }
 },
 "nbformat": 4,
 "nbformat_minor": 4
}
